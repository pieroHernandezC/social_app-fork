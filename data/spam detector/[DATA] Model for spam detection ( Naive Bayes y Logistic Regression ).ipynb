{
 "cells": [
  {
   "cell_type": "code",
   "execution_count": 27,
   "metadata": {},
   "outputs": [
    {
     "name": "stdout",
     "output_type": "stream",
     "text": [
      "Requirement already satisfied: BeautifulSoup4 in c:\\users\\usuario\\appdata\\local\\programs\\python\\python311\\lib\\site-packages (4.12.2)\n",
      "Requirement already satisfied: soupsieve>1.2 in c:\\users\\usuario\\appdata\\local\\programs\\python\\python311\\lib\\site-packages (from BeautifulSoup4) (2.5)\n",
      "Note: you may need to restart the kernel to use updated packages.\n"
     ]
    }
   ],
   "source": [
    "pip install BeautifulSoup4"
   ]
  },
  {
   "cell_type": "code",
   "execution_count": 28,
   "metadata": {},
   "outputs": [
    {
     "name": "stdout",
     "output_type": "stream",
     "text": [
      "Requirement already satisfied: nltk in c:\\users\\usuario\\appdata\\local\\programs\\python\\python311\\lib\\site-packages (3.8.1)\n",
      "Requirement already satisfied: click in c:\\users\\usuario\\appdata\\local\\programs\\python\\python311\\lib\\site-packages (from nltk) (8.1.7)\n",
      "Requirement already satisfied: joblib in c:\\users\\usuario\\appdata\\local\\programs\\python\\python311\\lib\\site-packages (from nltk) (1.2.0)\n",
      "Requirement already satisfied: regex>=2021.8.3 in c:\\users\\usuario\\appdata\\local\\programs\\python\\python311\\lib\\site-packages (from nltk) (2023.8.8)\n",
      "Requirement already satisfied: tqdm in c:\\users\\usuario\\appdata\\local\\programs\\python\\python311\\lib\\site-packages (from nltk) (4.66.1)\n",
      "Requirement already satisfied: colorama in c:\\users\\usuario\\appdata\\roaming\\python\\python311\\site-packages (from click->nltk) (0.4.6)\n",
      "Note: you may need to restart the kernel to use updated packages.\n"
     ]
    }
   ],
   "source": [
    "pip install nltk"
   ]
  },
  {
   "cell_type": "code",
   "execution_count": 29,
   "metadata": {},
   "outputs": [
    {
     "name": "stderr",
     "output_type": "stream",
     "text": [
      "[nltk_data] Downloading package punkt to\n",
      "[nltk_data]     C:\\Users\\USUARIO\\AppData\\Roaming\\nltk_data...\n",
      "[nltk_data]   Package punkt is already up-to-date!\n",
      "[nltk_data] Downloading package stopwords to\n",
      "[nltk_data]     C:\\Users\\USUARIO\\AppData\\Roaming\\nltk_data...\n",
      "[nltk_data]   Package stopwords is already up-to-date!\n"
     ]
    },
    {
     "name": "stdout",
     "output_type": "stream",
     "text": [
      "0    way entrepreneurial students share idea like b...\n",
      "1    back uk thanks positiveparents wilmagarvin dem...\n",
      "2                       totally unexpected great night\n",
      "3    bodysculpter hi email u morning received blank...\n",
      "4    hello world welcome affordable web pro blog ht...\n",
      "Name: text_cleaned, dtype: object\n"
     ]
    }
   ],
   "source": [
    "import pandas as pd\n",
    "import re\n",
    "from bs4 import BeautifulSoup\n",
    "import nltk\n",
    "from nltk.tokenize import word_tokenize\n",
    "from nltk.corpus import stopwords\n",
    "from nltk.stem import PorterStemmer\n",
    "from sklearn.feature_extraction.text import TfidfVectorizer\n",
    "\n",
    "# Descargar los recursos de NLTK necesarios\n",
    "nltk.download('punkt')\n",
    "nltk.download('stopwords')\n",
    "\n",
    "# Cargar el archivo CSV\n",
    "data = pd.read_csv('C:/Users/USUARIO/Downloads/archive/Final-Dataset.csv')\n",
    "\n",
    "# Función para limpiar el texto\n",
    "def clean_text(text):\n",
    "    # Eliminar etiquetas HTML\n",
    "    text = BeautifulSoup(text, 'html.parser').get_text()\n",
    "    # Eliminar caracteres especiales y números\n",
    "    text = re.sub(r'[^a-zA-Z]', ' ', text)\n",
    "    # Tokenización\n",
    "    tokens = word_tokenize(text)\n",
    "    # Convertir a minúsculas y eliminar stopwords\n",
    "    stop_words = set(stopwords.words('english'))\n",
    "    tokens = [word.lower() for word in tokens if word.isalpha() and word.lower() not in stop_words]\n",
    "    # Stemming (opcional)\n",
    "    # stemmer = PorterStemmer()\n",
    "    # tokens = [stemmer.stem(word) for word in tokens]\n",
    "    # Unir tokens nuevamente\n",
    "    cleaned_text = ' '.join(tokens)\n",
    "    return cleaned_text\n",
    "\n",
    "# Aplicar la función de limpieza a la columna de texto\n",
    "data['text_cleaned'] = data['FORMATTED_CONTENT'].apply(clean_text)\n",
    "\n",
    "# Mostrar los datos preprocesados\n",
    "print(data['text_cleaned'].head())\n"
   ]
  },
  {
   "cell_type": "code",
   "execution_count": 30,
   "metadata": {},
   "outputs": [
    {
     "name": "stdout",
     "output_type": "stream",
     "text": [
      "    aa  aan  aapl   ab  abc  aber  ability  able  abraham  absolutely  ...   \n",
      "0  0.0  0.0   0.0  0.0  0.0   0.0      0.0   0.0      0.0         0.0  ...  \\\n",
      "1  0.0  0.0   0.0  0.0  0.0   0.0      0.0   0.0      0.0         0.0  ...   \n",
      "2  0.0  0.0   0.0  0.0  0.0   0.0      0.0   0.0      0.0         0.0  ...   \n",
      "3  0.0  0.0   0.0  0.0  0.0   0.0      0.0   0.0      0.0         0.0  ...   \n",
      "4  0.0  0.0   0.0  0.0  0.0   0.0      0.0   0.0      0.0         0.0  ...   \n",
      "\n",
      "   zonepa  zopeplonedev  zou   zr   zu  zum  zur   zx  zxxhl   zz  \n",
      "0     0.0           0.0  0.0  0.0  0.0  0.0  0.0  0.0    0.0  0.0  \n",
      "1     0.0           0.0  0.0  0.0  0.0  0.0  0.0  0.0    0.0  0.0  \n",
      "2     0.0           0.0  0.0  0.0  0.0  0.0  0.0  0.0    0.0  0.0  \n",
      "3     0.0           0.0  0.0  0.0  0.0  0.0  0.0  0.0    0.0  0.0  \n",
      "4     0.0           0.0  0.0  0.0  0.0  0.0  0.0  0.0    0.0  0.0  \n",
      "\n",
      "[5 rows x 5000 columns]\n"
     ]
    }
   ],
   "source": [
    "from sklearn.feature_extraction.text import TfidfVectorizer\n",
    "\n",
    "# Crear un objeto TF-IDF Vectorizer con un número máximo de características\n",
    "max_features = 5000  \n",
    "tfidf_vectorizer = TfidfVectorizer(max_features=max_features)\n",
    "\n",
    "# Ajustar y transformar los datos de texto limpio\n",
    "tfidf_matrix = tfidf_vectorizer.fit_transform(data['text_cleaned'])\n",
    "\n",
    "# Obtener las características TF-IDF en un DataFrame de pandas\n",
    "tfidf_df = pd.DataFrame(tfidf_matrix.toarray(), columns=tfidf_vectorizer.get_feature_names_out())\n",
    "\n",
    "# Imprimir las primeras filas del DataFrame para ver las características TF-IDF\n",
    "print(tfidf_df.head())\n"
   ]
  },
  {
   "cell_type": "code",
   "execution_count": 31,
   "metadata": {},
   "outputs": [
    {
     "name": "stdout",
     "output_type": "stream",
     "text": [
      "Dimensiones del conjunto de entrenamiento X: (97491, 5000)\n",
      "Dimensiones del conjunto de prueba X: (24373, 5000)\n",
      "Dimensiones del conjunto de entrenamiento y: (97491,)\n",
      "Dimensiones del conjunto de prueba y: (24373,)\n"
     ]
    }
   ],
   "source": [
    "from sklearn.model_selection import train_test_split\n",
    "\n",
    "# Dividir los datos en características (X) y etiquetas (y)\n",
    "X = tfidf_df  # Características TF-IDF\n",
    "y = data['CLASS']  # Etiquetas (clase spam o no spam)\n",
    "\n",
    "# Dividir los datos en conjuntos de entrenamiento y pruebas (80% entrenamiento, 20% prueba)\n",
    "X_train, X_test, y_train, y_test = train_test_split(X, y, test_size=0.2, random_state=42)\n",
    "\n",
    "# Imprimir las dimensiones de los conjuntos de entrenamiento y pruebas\n",
    "print(\"Dimensiones del conjunto de entrenamiento X:\", X_train.shape)\n",
    "print(\"Dimensiones del conjunto de prueba X:\", X_test.shape)\n",
    "print(\"Dimensiones del conjunto de entrenamiento y:\", y_train.shape)\n",
    "print(\"Dimensiones del conjunto de prueba y:\", y_test.shape)\n"
   ]
  },
  {
   "cell_type": "code",
   "execution_count": 32,
   "metadata": {},
   "outputs": [
    {
     "name": "stdout",
     "output_type": "stream",
     "text": [
      "Precisión del modelo Naive Bayes: 0.7491076190866943\n",
      "              precision    recall  f1-score   support\n",
      "\n",
      "           0       0.77      0.73      0.75     12484\n",
      "           1       0.73      0.77      0.75     11889\n",
      "\n",
      "    accuracy                           0.75     24373\n",
      "   macro avg       0.75      0.75      0.75     24373\n",
      "weighted avg       0.75      0.75      0.75     24373\n",
      "\n"
     ]
    }
   ],
   "source": [
    "from sklearn.naive_bayes import MultinomialNB\n",
    "from sklearn.metrics import accuracy_score, classification_report\n",
    "\n",
    "# Crear un clasificador Naive Bayes\n",
    "naive_bayes_classifier = MultinomialNB()\n",
    "\n",
    "# Entrenar el modelo en el conjunto de entrenamiento\n",
    "naive_bayes_classifier.fit(X_train, y_train)\n",
    "\n",
    "# Realizar predicciones en el conjunto de prueba\n",
    "y_pred = naive_bayes_classifier.predict(X_test)\n",
    "\n",
    "# Calcular la precisión del modelo\n",
    "accuracy = accuracy_score(y_test, y_pred)\n",
    "print(\"Precisión del modelo Naive Bayes:\", accuracy)\n",
    "\n",
    "# Mostrar un informe de clasificación\n",
    "print(classification_report(y_test, y_pred))\n"
   ]
  },
  {
   "cell_type": "code",
   "execution_count": 33,
   "metadata": {},
   "outputs": [
    {
     "data": {
      "image/png": "[encoded data removed]",
      "text/plain": [
       "<Figure size 600x400 with 1 Axes>"
      ]
     },
     "metadata": {},
     "output_type": "display_data"
    }
   ],
   "source": [
    "from sklearn.metrics import confusion_matrix\n",
    "import matplotlib.pyplot as plt\n",
    "import seaborn as sns\n",
    "\n",
    "# Realizar predicciones en el conjunto de prueba para Naive Bayes\n",
    "y_pred_naive_bayes = naive_bayes_classifier.predict(X_test)\n",
    "\n",
    "# Calcular la matriz de confusión para Naive Bayes\n",
    "cm_naive_bayes = confusion_matrix(y_test, y_pred_naive_bayes)\n",
    "\n",
    "# Visualización de la matriz de confusión para Naive Bayes\n",
    "plt.figure(figsize=(6, 4))\n",
    "sns.heatmap(cm_naive_bayes, annot=True, fmt='d', cmap='Blues', cbar=False)\n",
    "plt.xlabel('Predicción')\n",
    "plt.ylabel('Actual')\n",
    "plt.title('Matriz de Confusión - Naive Bayes')\n",
    "plt.show()\n"
   ]
  },
  {
   "cell_type": "code",
   "execution_count": 34,
   "metadata": {},
   "outputs": [
    {
     "name": "stdout",
     "output_type": "stream",
     "text": [
      "Precisión del modelo de Regresión Logística: 0.7666680343002503\n",
      "              precision    recall  f1-score   support\n",
      "\n",
      "           0       0.76      0.79      0.78     12484\n",
      "           1       0.77      0.74      0.76     11889\n",
      "\n",
      "    accuracy                           0.77     24373\n",
      "   macro avg       0.77      0.77      0.77     24373\n",
      "weighted avg       0.77      0.77      0.77     24373\n",
      "\n"
     ]
    }
   ],
   "source": [
    "from sklearn.linear_model import LogisticRegression\n",
    "\n",
    "# Crear un clasificador de Regresión Logística\n",
    "logistic_regression_classifier = LogisticRegression()\n",
    "\n",
    "# Entrenar el modelo en el conjunto de entrenamiento\n",
    "logistic_regression_classifier.fit(X_train, y_train)\n",
    "\n",
    "# Realizar predicciones en el conjunto de prueba\n",
    "y_pred = logistic_regression_classifier.predict(X_test)\n",
    "\n",
    "# Calcular la precisión del modelo\n",
    "accuracy = accuracy_score(y_test, y_pred)\n",
    "print(\"Precisión del modelo de Regresión Logística:\", accuracy)\n",
    "\n",
    "# Mostrar un informe de clasificación\n",
    "print(classification_report(y_test, y_pred))\n"
   ]
  },
  {
   "cell_type": "code",
   "execution_count": 35,
   "metadata": {},
   "outputs": [
    {
     "data": {
      "image/png": "[encoded data removed]",
      "text/plain": [
       "<Figure size 600x400 with 1 Axes>"
      ]
     },
     "metadata": {},
     "output_type": "display_data"
    }
   ],
   "source": [
    "from sklearn.metrics import confusion_matrix\n",
    "import matplotlib.pyplot as plt\n",
    "import seaborn as sns\n",
    "\n",
    "# Realizar predicciones en el conjunto de prueba para Regresión Logística\n",
    "y_pred_logistic_regression = logistic_regression_classifier.predict(X_test)\n",
    "\n",
    "# Calcular la matriz de confusión para Regresión Logística\n",
    "cm_logistic_regression = confusion_matrix(y_test, y_pred_logistic_regression)\n",
    "\n",
    "# Visualización de la matriz de confusión para Regresión Logística\n",
    "plt.figure(figsize=(6, 4))\n",
    "sns.heatmap(cm_logistic_regression, annot=True, fmt='d', cmap='Blues', cbar=False)\n",
    "plt.xlabel('Predicción')\n",
    "plt.ylabel('Actual')\n",
    "plt.title('Matriz de Confusión - Regresión Logística')\n",
    "plt.show()\n"
   ]
  },
  {
   "cell_type": "code",
   "execution_count": 36,
   "metadata": {},
   "outputs": [],
   "source": [
    "from sklearn.model_selection import GridSearchCV"
   ]
  },
  {
   "cell_type": "code",
   "execution_count": 37,
   "metadata": {},
   "outputs": [
    {
     "name": "stdout",
     "output_type": "stream",
     "text": [
      "Mejor valor de alpha: 0.1\n",
      "Precisión del modelo Naive Bayes ajustado: 0.7497640832068272\n"
     ]
    }
   ],
   "source": [
    "# Crear un clasificador Naive Bayes\n",
    "naive_bayes_classifier = MultinomialNB()\n",
    "\n",
    "# Definir los valores de alpha que deseas probar\n",
    "param_grid = {'alpha': [0.1, 0.5, 1.0, 2.0]}\n",
    "\n",
    "# Crear un objeto GridSearchCV\n",
    "grid_search = GridSearchCV(naive_bayes_classifier, param_grid, cv=5, scoring='accuracy')\n",
    "\n",
    "# Realizar la búsqueda en cuadrícula en el conjunto de entrenamiento\n",
    "grid_search.fit(X_train, y_train)\n",
    "\n",
    "# Obtener el mejor valor de alpha encontrado por la búsqueda en cuadrícula\n",
    "best_alpha = grid_search.best_params_['alpha']\n",
    "\n",
    "# Entrenar el modelo de Naive Bayes con el mejor valor de alpha\n",
    "best_naive_bayes_classifier = MultinomialNB(alpha=best_alpha)\n",
    "best_naive_bayes_classifier.fit(X_train, y_train)\n",
    "\n",
    "# Realizar predicciones en el conjunto de prueba con el modelo ajustado\n",
    "y_pred = best_naive_bayes_classifier.predict(X_test)\n",
    "\n",
    "# Calcular la precisión del modelo ajustado\n",
    "accuracy = accuracy_score(y_test, y_pred)\n",
    "print(\"Mejor valor de alpha:\", best_alpha)\n",
    "print(\"Precisión del modelo Naive Bayes ajustado:\", accuracy)\n"
   ]
  },
  {
   "cell_type": "code",
   "execution_count": 38,
   "metadata": {},
   "outputs": [
    {
     "name": "stderr",
     "output_type": "stream",
     "text": [
      "c:\\Users\\USUARIO\\AppData\\Local\\Programs\\Python\\Python311\\Lib\\site-packages\\sklearn\\linear_model\\_logistic.py:458: ConvergenceWarning: lbfgs failed to converge (status=1):\n",
      "STOP: TOTAL NO. of ITERATIONS REACHED LIMIT.\n",
      "\n",
      "Increase the number of iterations (max_iter) or scale the data as shown in:\n",
      "    https://scikit-learn.org/stable/modules/preprocessing.html\n",
      "Please also refer to the documentation for alternative solver options:\n",
      "    https://scikit-learn.org/stable/modules/linear_model.html#logistic-regression\n",
      "  n_iter_i = _check_optimize_result(\n",
      "c:\\Users\\USUARIO\\AppData\\Local\\Programs\\Python\\Python311\\Lib\\site-packages\\sklearn\\linear_model\\_logistic.py:458: ConvergenceWarning: lbfgs failed to converge (status=1):\n",
      "STOP: TOTAL NO. of ITERATIONS REACHED LIMIT.\n",
      "\n",
      "Increase the number of iterations (max_iter) or scale the data as shown in:\n",
      "    https://scikit-learn.org/stable/modules/preprocessing.html\n",
      "Please also refer to the documentation for alternative solver options:\n",
      "    https://scikit-learn.org/stable/modules/linear_model.html#logistic-regression\n",
      "  n_iter_i = _check_optimize_result(\n",
      "c:\\Users\\USUARIO\\AppData\\Local\\Programs\\Python\\Python311\\Lib\\site-packages\\sklearn\\linear_model\\_logistic.py:458: ConvergenceWarning: lbfgs failed to converge (status=1):\n",
      "STOP: TOTAL NO. of ITERATIONS REACHED LIMIT.\n",
      "\n",
      "Increase the number of iterations (max_iter) or scale the data as shown in:\n",
      "    https://scikit-learn.org/stable/modules/preprocessing.html\n",
      "Please also refer to the documentation for alternative solver options:\n",
      "    https://scikit-learn.org/stable/modules/linear_model.html#logistic-regression\n",
      "  n_iter_i = _check_optimize_result(\n",
      "c:\\Users\\USUARIO\\AppData\\Local\\Programs\\Python\\Python311\\Lib\\site-packages\\sklearn\\linear_model\\_logistic.py:458: ConvergenceWarning: lbfgs failed to converge (status=1):\n",
      "STOP: TOTAL NO. of ITERATIONS REACHED LIMIT.\n",
      "\n",
      "Increase the number of iterations (max_iter) or scale the data as shown in:\n",
      "    https://scikit-learn.org/stable/modules/preprocessing.html\n",
      "Please also refer to the documentation for alternative solver options:\n",
      "    https://scikit-learn.org/stable/modules/linear_model.html#logistic-regression\n",
      "  n_iter_i = _check_optimize_result(\n",
      "c:\\Users\\USUARIO\\AppData\\Local\\Programs\\Python\\Python311\\Lib\\site-packages\\sklearn\\linear_model\\_logistic.py:458: ConvergenceWarning: lbfgs failed to converge (status=1):\n",
      "STOP: TOTAL NO. of ITERATIONS REACHED LIMIT.\n",
      "\n",
      "Increase the number of iterations (max_iter) or scale the data as shown in:\n",
      "    https://scikit-learn.org/stable/modules/preprocessing.html\n",
      "Please also refer to the documentation for alternative solver options:\n",
      "    https://scikit-learn.org/stable/modules/linear_model.html#logistic-regression\n",
      "  n_iter_i = _check_optimize_result(\n",
      "c:\\Users\\USUARIO\\AppData\\Local\\Programs\\Python\\Python311\\Lib\\site-packages\\sklearn\\linear_model\\_logistic.py:458: ConvergenceWarning: lbfgs failed to converge (status=1):\n",
      "STOP: TOTAL NO. of ITERATIONS REACHED LIMIT.\n",
      "\n",
      "Increase the number of iterations (max_iter) or scale the data as shown in:\n",
      "    https://scikit-learn.org/stable/modules/preprocessing.html\n",
      "Please also refer to the documentation for alternative solver options:\n",
      "    https://scikit-learn.org/stable/modules/linear_model.html#logistic-regression\n",
      "  n_iter_i = _check_optimize_result(\n",
      "c:\\Users\\USUARIO\\AppData\\Local\\Programs\\Python\\Python311\\Lib\\site-packages\\sklearn\\linear_model\\_logistic.py:458: ConvergenceWarning: lbfgs failed to converge (status=1):\n",
      "STOP: TOTAL NO. of ITERATIONS REACHED LIMIT.\n",
      "\n",
      "Increase the number of iterations (max_iter) or scale the data as shown in:\n",
      "    https://scikit-learn.org/stable/modules/preprocessing.html\n",
      "Please also refer to the documentation for alternative solver options:\n",
      "    https://scikit-learn.org/stable/modules/linear_model.html#logistic-regression\n",
      "  n_iter_i = _check_optimize_result(\n",
      "c:\\Users\\USUARIO\\AppData\\Local\\Programs\\Python\\Python311\\Lib\\site-packages\\sklearn\\linear_model\\_logistic.py:458: ConvergenceWarning: lbfgs failed to converge (status=1):\n",
      "STOP: TOTAL NO. of ITERATIONS REACHED LIMIT.\n",
      "\n",
      "Increase the number of iterations (max_iter) or scale the data as shown in:\n",
      "    https://scikit-learn.org/stable/modules/preprocessing.html\n",
      "Please also refer to the documentation for alternative solver options:\n",
      "    https://scikit-learn.org/stable/modules/linear_model.html#logistic-regression\n",
      "  n_iter_i = _check_optimize_result(\n",
      "c:\\Users\\USUARIO\\AppData\\Local\\Programs\\Python\\Python311\\Lib\\site-packages\\sklearn\\linear_model\\_logistic.py:458: ConvergenceWarning: lbfgs failed to converge (status=1):\n",
      "STOP: TOTAL NO. of ITERATIONS REACHED LIMIT.\n",
      "\n",
      "Increase the number of iterations (max_iter) or scale the data as shown in:\n",
      "    https://scikit-learn.org/stable/modules/preprocessing.html\n",
      "Please also refer to the documentation for alternative solver options:\n",
      "    https://scikit-learn.org/stable/modules/linear_model.html#logistic-regression\n",
      "  n_iter_i = _check_optimize_result(\n"
     ]
    },
    {
     "name": "stdout",
     "output_type": "stream",
     "text": [
      "Mejor valor de C: 10\n",
      "Precisión del modelo de Regresión Logística ajustado: 0.7672014113978582\n"
     ]
    }
   ],
   "source": [
    "from sklearn.model_selection import GridSearchCV\n",
    "\n",
    "# Crear un clasificador de Regresión Logística\n",
    "logistic_regression_classifier = LogisticRegression()\n",
    "\n",
    "# Definir los valores de C que deseas probar\n",
    "param_grid = {'C': [0.001, 0.01, 0.1, 1, 10]}\n",
    "\n",
    "# Crear un objeto GridSearchCV\n",
    "grid_search = GridSearchCV(logistic_regression_classifier, param_grid, cv=5, scoring='accuracy')\n",
    "\n",
    "# Realizar la búsqueda en cuadrícula en el conjunto de entrenamiento\n",
    "grid_search.fit(X_train, y_train)\n",
    "\n",
    "# Obtener el mejor valor de C encontrado por la búsqueda en cuadrícula\n",
    "best_C = grid_search.best_params_['C']\n",
    "\n",
    "# Entrenar el modelo de Regresión Logística con el mejor valor de C\n",
    "best_logistic_regression_classifier = LogisticRegression(C=best_C)\n",
    "best_logistic_regression_classifier.fit(X_train, y_train)\n",
    "\n",
    "# Realizar predicciones en el conjunto de prueba con el modelo ajustado\n",
    "y_pred = best_logistic_regression_classifier.predict(X_test)\n",
    "\n",
    "# Calcular la precisión del modelo ajustado\n",
    "accuracy = accuracy_score(y_test, y_pred)\n",
    "print(\"Mejor valor de C:\", best_C)\n",
    "print(\"Precisión del modelo de Regresión Logística ajustado:\", accuracy)\n"
   ]
  },
  {
   "cell_type": "code",
   "execution_count": null,
   "metadata": {},
   "outputs": [],
   "source": []
  }
 ],
 "metadata": {
  "kernelspec": {
   "display_name": "Python 3",
   "language": "python",
   "name": "python3"
  },
  "language_info": {
   "codemirror_mode": {
    "name": "ipython",
    "version": 3
   },
   "file_extension": ".py",
   "mimetype": "text/x-python",
   "name": "python",
   "nbconvert_exporter": "python",
   "pygments_lexer": "ipython3",
   "version": "3.11.4"
  },
  "orig_nbformat": 4
 },
 "nbformat": 4,
 "nbformat_minor": 2
}
